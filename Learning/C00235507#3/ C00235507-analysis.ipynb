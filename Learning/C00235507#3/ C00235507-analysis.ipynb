{
 "cells": [
  {
   "cell_type": "code",
   "execution_count": 1,
   "id": "3f6a9ec4",
   "metadata": {},
   "outputs": [],
   "source": [
    "URL = \"https://c00235507-analysis.anvil.app/_/api/\"\n",
    "URL_POST = URL+\"metric\""
   ]
  },
  {
   "cell_type": "code",
   "execution_count": 2,
   "id": "3af4282c",
   "metadata": {},
   "outputs": [
    {
     "data": {
      "text/plain": [
       "'https://c00235507-analysis.anvil.app/_/api/metric'"
      ]
     },
     "execution_count": 2,
     "metadata": {},
     "output_type": "execute_result"
    }
   ],
   "source": [
    "URL_POST"
   ]
  },
  {
   "cell_type": "code",
   "execution_count": 3,
   "id": "3df1b2cb",
   "metadata": {},
   "outputs": [],
   "source": [
    "import requests"
   ]
  },
  {
   "cell_type": "code",
   "execution_count": 4,
   "id": "8f24a1bf",
   "metadata": {},
   "outputs": [],
   "source": [
    "import random"
   ]
  },
  {
   "cell_type": "code",
   "execution_count": 5,
   "id": "ffecc7a3",
   "metadata": {},
   "outputs": [],
   "source": [
    "import time"
   ]
  },
  {
   "cell_type": "code",
   "execution_count": 6,
   "id": "8e43e53e",
   "metadata": {},
   "outputs": [],
   "source": [
    "categories = [\"health\" , \"shots\" , \"score\"]"
   ]
  },
  {
   "cell_type": "code",
   "execution_count": 7,
   "id": "2e5777c5",
   "metadata": {},
   "outputs": [
    {
     "data": {
      "text/plain": [
       "'shots'"
      ]
     },
     "execution_count": 7,
     "metadata": {},
     "output_type": "execute_result"
    }
   ],
   "source": [
    "random.choice(categories)"
   ]
  },
  {
   "cell_type": "code",
   "execution_count": 8,
   "id": "a93b29eb",
   "metadata": {},
   "outputs": [],
   "source": [
    "numbers = [0,1,1,1,1,1,1,1,1,1,2,2,3,4,5,6,7,8,9,10,11]"
   ]
  },
  {
   "cell_type": "code",
   "execution_count": 9,
   "id": "a9e2d5a7",
   "metadata": {},
   "outputs": [],
   "source": [
    "import datetime"
   ]
  },
  {
   "cell_type": "code",
   "execution_count": 10,
   "id": "34a51e49",
   "metadata": {},
   "outputs": [],
   "source": [
    "import json"
   ]
  },
  {
   "cell_type": "code",
   "execution_count": 11,
   "id": "94ca9a6a",
   "metadata": {},
   "outputs": [
    {
     "data": {
      "text/plain": [
       "'datetime.datetime(2022, 2, 10, 10, 28, 20, 979320)'"
      ]
     },
     "execution_count": 11,
     "metadata": {},
     "output_type": "execute_result"
    }
   ],
   "source": [
    "repr(datetime.datetime.now())"
   ]
  },
  {
   "cell_type": "code",
   "execution_count": 12,
   "id": "6e093865",
   "metadata": {},
   "outputs": [
    {
     "name": "stdout",
     "output_type": "stream",
     "text": [
      "{\"timestamp\": 1644488901.0554197, \"playtime\": 7, \"accuracy\": 70, \"score\": 8}\n",
      "{\"timestamp\": 1644488901.3997257, \"playtime\": 8, \"accuracy\": 40, \"score\": 6}\n",
      "{\"timestamp\": 1644488901.693239, \"playtime\": 9, \"accuracy\": 50, \"score\": 9}\n",
      "{\"timestamp\": 1644488901.970064, \"playtime\": 9, \"accuracy\": 30, \"score\": 9}\n",
      "{\"timestamp\": 1644488902.2228427, \"playtime\": 10, \"accuracy\": 60, \"score\": 6}\n"
     ]
    }
   ],
   "source": [
    "for i in range(5):\n",
    "    timestamp = time.time()    \n",
    "    numbers = [5,6,7,8,9,10]\n",
    "    playtime = random.choice(numbers)\n",
    "    numbers = [30,40,50,60,70]    \n",
    "    accuracy = random.choice(numbers)\n",
    "    numbers = [6,7,8,9,10,11,12]\n",
    "    score = random.choice(numbers)\n",
    "    metric ={\n",
    "        \"timestamp\": timestamp,\n",
    "        \"playtime\" : playtime ,\n",
    "        \"accuracy\" : accuracy ,\n",
    "        \"score\" : score\n",
    "        } \n",
    "    requests.post(URL_POST , json = metric)\n",
    "    print(json.dumps(metric))"
   ]
  },
  {
   "cell_type": "code",
   "execution_count": null,
   "id": "6bcf5e8d",
   "metadata": {},
   "outputs": [],
   "source": []
  },
  {
   "cell_type": "code",
   "execution_count": null,
   "id": "17e305f0",
   "metadata": {},
   "outputs": [],
   "source": []
  },
  {
   "cell_type": "code",
   "execution_count": 13,
   "id": "6d9ce8fe",
   "metadata": {},
   "outputs": [
    {
     "data": {
      "text/plain": [
       "1644488902.5223196"
      ]
     },
     "execution_count": 13,
     "metadata": {},
     "output_type": "execute_result"
    }
   ],
   "source": [
    "time.time()"
   ]
  },
  {
   "cell_type": "code",
   "execution_count": 14,
   "id": "6c5625a5",
   "metadata": {},
   "outputs": [],
   "source": [
    "URL_GET = URL+\"metrics\""
   ]
  },
  {
   "cell_type": "code",
   "execution_count": 15,
   "id": "b1bb29dd",
   "metadata": {},
   "outputs": [
    {
     "data": {
      "text/plain": [
       "'https://c00235507-analysis.anvil.app/_/api/metrics'"
      ]
     },
     "execution_count": 15,
     "metadata": {},
     "output_type": "execute_result"
    }
   ],
   "source": [
    "URL_GET"
   ]
  },
  {
   "cell_type": "code",
   "execution_count": 16,
   "id": "91a706a6",
   "metadata": {},
   "outputs": [],
   "source": [
    "data = requests.get(URL_GET)"
   ]
  },
  {
   "cell_type": "code",
   "execution_count": 17,
   "id": "d4db02dc",
   "metadata": {},
   "outputs": [],
   "source": [
    "metrics = data.json()"
   ]
  },
  {
   "cell_type": "code",
   "execution_count": 18,
   "id": "6e08aab6",
   "metadata": {},
   "outputs": [
    {
     "data": {
      "text/plain": [
       "<Response [200]>"
      ]
     },
     "execution_count": 18,
     "metadata": {},
     "output_type": "execute_result"
    }
   ],
   "source": [
    "data"
   ]
  },
  {
   "cell_type": "code",
   "execution_count": 19,
   "id": "f6e9601b",
   "metadata": {},
   "outputs": [
    {
     "data": {
      "text/plain": [
       "[[1644488901.05542, 7, 8, 70],\n",
       " [1644488901.399726, 8, 6, 40],\n",
       " [1644488901.693239, 9, 9, 50],\n",
       " [1644488901.970064, 9, 9, 30],\n",
       " [1644488902.222843, 10, 6, 60]]"
      ]
     },
     "execution_count": 19,
     "metadata": {},
     "output_type": "execute_result"
    }
   ],
   "source": [
    " metrics"
   ]
  },
  {
   "cell_type": "code",
   "execution_count": 20,
   "id": "42a7c08d",
   "metadata": {},
   "outputs": [],
   "source": [
    "metrics = [[datetime.datetime.fromtimestamp(l[0]),l[1],l[2]] for l in metrics]"
   ]
  },
  {
   "cell_type": "code",
   "execution_count": 21,
   "id": "cfaf2ba7",
   "metadata": {},
   "outputs": [
    {
     "data": {
      "text/plain": [
       "[[datetime.datetime(2022, 2, 10, 10, 28, 21, 55420), 7, 8],\n",
       " [datetime.datetime(2022, 2, 10, 10, 28, 21, 399726), 8, 6],\n",
       " [datetime.datetime(2022, 2, 10, 10, 28, 21, 693239), 9, 9],\n",
       " [datetime.datetime(2022, 2, 10, 10, 28, 21, 970064), 9, 9],\n",
       " [datetime.datetime(2022, 2, 10, 10, 28, 22, 222843), 10, 6]]"
      ]
     },
     "execution_count": 21,
     "metadata": {},
     "output_type": "execute_result"
    }
   ],
   "source": [
    "metrics"
   ]
  },
  {
   "cell_type": "code",
   "execution_count": null,
   "id": "0ecdc445",
   "metadata": {},
   "outputs": [],
   "source": []
  }
 ],
 "metadata": {
  "kernelspec": {
   "display_name": "Python 3 (ipykernel)",
   "language": "python",
   "name": "python3"
  },
  "language_info": {
   "codemirror_mode": {
    "name": "ipython",
    "version": 3
   },
   "file_extension": ".py",
   "mimetype": "text/x-python",
   "name": "python",
   "nbconvert_exporter": "python",
   "pygments_lexer": "ipython3",
   "version": "3.9.7"
  }
 },
 "nbformat": 4,
 "nbformat_minor": 5
}
